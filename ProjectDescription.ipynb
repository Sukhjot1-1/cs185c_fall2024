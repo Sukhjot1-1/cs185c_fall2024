{
 "cells": [
  {
   "cell_type": "markdown",
   "id": "8bfa1fdd-42cb-4e86-9247-b5ffed189bcb",
   "metadata": {},
   "source": [
    "I am planning to do my project based on the second question which is “How do seasonal monsoons in southeast Asia impact ocean stratification?” I am planning to use some of the information we learned about stratification in the homework to aid me in the comparison of the ocean stratification before and after the seasonal monsoons. The area that I am planning on looking at is the western coast of India that is touching the Arabian Sea. I believe that the results will show that the monsoon changes the ocean stratification in this particular region by influencing the temperature and the salinity. I think that what this really depends on is how much new freshwater is brought in by the storms which affects the density of the water. I am also going to be using the plotting for different temperatures that we worked with in the homework to help compare the two."
   ]
  }
 ],
 "metadata": {
  "kernelspec": {
   "display_name": "cs185c",
   "language": "python",
   "name": "cs185c"
  },
  "language_info": {
   "codemirror_mode": {
    "name": "ipython",
    "version": 3
   },
   "file_extension": ".py",
   "mimetype": "text/x-python",
   "name": "python",
   "nbconvert_exporter": "python",
   "pygments_lexer": "ipython3",
   "version": "3.11.9"
  }
 },
 "nbformat": 4,
 "nbformat_minor": 5
}
